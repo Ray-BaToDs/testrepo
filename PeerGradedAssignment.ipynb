{
 "cells": [
  {
   "cell_type": "markdown",
   "metadata": {},
   "source": [
    "# My Jupyter Notebook on IBM Watson Studio"
   ]
  },
  {
   "cell_type": "markdown",
   "metadata": {},
   "source": [
    "**Rayen Ben Soltane**\n",
    "\n",
    "I am currently a Business Analyst Intern and I want to become a skilled Data Scientist"
   ]
  },
  {
   "cell_type": "markdown",
   "metadata": {},
   "source": [
    "_I am interested in data science because it involves two subjects that I have the biggest for : Mathematics and Computer Science._"
   ]
  },
  {
   "cell_type": "markdown",
   "metadata": {},
   "source": [
    "### The code in cell 5 splits a text (string) into a list where each word is a list item."
   ]
  },
  {
   "cell_type": "code",
   "execution_count": 2,
   "metadata": {},
   "outputs": [
    {
     "name": "stdout",
     "output_type": "stream",
     "text": [
      "['My', 'journey', 'to', 'becoming', 'a', 'Data', 'Scientist', 'is', 'going', 'to', 'be', 'fun']\n"
     ]
    }
   ],
   "source": [
    "text= \"My journey to becoming a Data Scientist is going to be fun\"\n",
    "WordList=text.split()\n",
    "print(WordList)"
   ]
  },
  {
   "cell_type": "markdown",
   "metadata": {},
   "source": [
    "* This is a bullet point\n",
    "1. This is a numbered list\n",
    "href\n",
    "\n",
    "[This is the link to my LinkedIn profile](https://www.linkedin.com/in/rayen-ben-soltane/)\n"
   ]
  }
 ],
 "metadata": {
  "kernelspec": {
   "display_name": "Python 3.10.7 64-bit (microsoft store)",
   "language": "python",
   "name": "python3"
  },
  "language_info": {
   "codemirror_mode": {
    "name": "ipython",
    "version": 3
   },
   "file_extension": ".py",
   "mimetype": "text/x-python",
   "name": "python",
   "nbconvert_exporter": "python",
   "pygments_lexer": "ipython3",
   "version": "3.10.7"
  },
  "orig_nbformat": 4,
  "vscode": {
   "interpreter": {
    "hash": "2995be7abb9ffb6ea66f2fad7b3b48618a1b2160884e44b4b9a9463af261d37d"
   }
  }
 },
 "nbformat": 4,
 "nbformat_minor": 2
}
